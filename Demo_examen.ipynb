{
  "nbformat": 4,
  "nbformat_minor": 0,
  "metadata": {
    "colab": {
      "provenance": [],
      "include_colab_link": true
    },
    "kernelspec": {
      "name": "python3",
      "display_name": "Python 3"
    },
    "language_info": {
      "name": "python"
    }
  },
  "cells": [
    {
      "cell_type": "markdown",
      "metadata": {
        "id": "view-in-github",
        "colab_type": "text"
      },
      "source": [
        "<a href=\"https://colab.research.google.com/github/ceciliaJanetzy/progra_python/blob/main/Demo_examen.ipynb\" target=\"_parent\"><img src=\"https://colab.research.google.com/assets/colab-badge.svg\" alt=\"Open In Colab\"/></a>"
      ]
    },
    {
      "cell_type": "markdown",
      "source": [
        "# **DEMO Examen**"
      ],
      "metadata": {
        "id": "GvIotjKfkGW_"
      }
    },
    {
      "cell_type": "markdown",
      "source": [
        "Poner lista de participantes de equipo aquí (tabla markdown):Poner lista de participantes de equipo aquí (tabla markdown):\n",
        "\n",
        "---\n",
        "|Nombre|Matricula|\n",
        "|---|---|\n",
        "|Gerarado Arellano de la Cruz Pedro|2045994|\n",
        "|Madruga Arreaza Aliskei José|2128406|\n",
        "|García Sánchez Cecilia Janetzy|2020410|\n",
        "|Perez Fuentes Sol Guadalupe|2052640|\n",
        "\n",
        "\n",
        "\n",
        "\n",
        "\n",
        "\n",
        "\n"
      ],
      "metadata": {
        "id": "cFBll8DjkOKf"
      }
    },
    {
      "cell_type": "code",
      "source": [
        "import re\n",
        "Lectura=0\n",
        "class Lectura:\n",
        "    def __init__(self, grados_f):\n",
        "        self.grados_f = grados_f\n",
        "\n",
        "    @property\n",
        "    def grados_c(self):\n",
        "        return (self.grados_f - 32) / 1.8\n",
        "\n",
        "    @property\n",
        "    def estado(self):\n",
        "        if self.grados_f < 35:\n",
        "            return \"Hipotermia\"\n",
        "        elif self.grados_f < 37:\n",
        "            return \"Normal\"\n",
        "        elif self.grados_f < 38:\n",
        "            return \"Febrícula\"\n",
        "        elif self.grados_f < 41:\n",
        "            return \"Fiebre\"\n",
        "        else:\n",
        "            return \"Hiperpirexia\"\n",
        "\n",
        "    def mostrar_lectura(self):\n",
        "        print(f\"Farenheit: {self.grados_f}\")\n",
        "        print(f\"Centigrados: {self.grados_c}\")\n",
        "        print(f\"Estado: {self.estado}\")\n",
        "        print()\n",
        "\n",
        "def capturar_f(prompt=\"Dame un número flotante:\"):\n",
        "    while True:\n",
        "        dato = input(prompt)\n",
        "        if not dato:\n",
        "            print(\"Error: El dato no puede estar vacio.\")\n",
        "            continue\n",
        "        if not re.match(r'^\\d{1,3}\\.\\d{1,3}$', dato):\n",
        "            print(\"Error: El dato debe tener el formato correcto (número.flotante).\")\n",
        "            continue\n",
        "        valor = float(dato)\n",
        "        if valor < 0.0 or valor > 150.0:\n",
        "            print(\"Error: El valor debe estar entre 0.0 y 150.0.\")\n",
        "            continue\n",
        "        break\n",
        "    return valor\n",
        "\n",
        "lecturas = []\n",
        "\n",
        "while True:\n",
        "    temperatura = capturar_f(\"Dame la temperatura del paciente: \")\n",
        "    lectura = Lectura(temperatura)\n",
        "    lecturas.append(lectura)\n",
        "\n",
        "    respuesta = input(\"¿Deseas capturar una lectura más? (s/n): \")\n",
        "    if respuesta.lower() != \"s\":\n",
        "        break\n",
        "\n",
        "for lectura in lecturas:\n",
        "    lectura.mostrar_lectura()"
      ],
      "metadata": {
        "id": "mNhSI4_8kO2H",
        "colab": {
          "base_uri": "https://localhost:8080/"
        },
        "outputId": "c5755086-3bc4-4bb3-bb23-865a6c9179e7"
      },
      "execution_count": null,
      "outputs": [
        {
          "output_type": "stream",
          "name": "stdout",
          "text": [
            "Dame la temperatura del paciente: 32.5\n",
            "¿Deseas capturar una lectura más? (s/n): s\n",
            "Dame la temperatura del paciente: 20\n",
            "Error: El dato debe tener el formato correcto (número.flotante).\n",
            "Dame la temperatura del paciente: 40.1\n",
            "¿Deseas capturar una lectura más? (s/n): s\n",
            "Dame la temperatura del paciente: 23.6\n",
            "¿Deseas capturar una lectura más? (s/n): n\n",
            "Farenheit: 32.5\n",
            "Centigrados: 0.2777777777777778\n",
            "Estado: Hipotermia\n",
            "\n",
            "Farenheit: 40.1\n",
            "Centigrados: 4.500000000000001\n",
            "Estado: Fiebre\n",
            "\n",
            "Farenheit: 23.6\n",
            "Centigrados: -4.666666666666666\n",
            "Estado: Hipotermia\n",
            "\n"
          ]
        }
      ]
    }
  ]
}