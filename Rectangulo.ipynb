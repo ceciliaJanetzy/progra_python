{
  "nbformat": 4,
  "nbformat_minor": 0,
  "metadata": {
    "colab": {
      "provenance": []
    },
    "kernelspec": {
      "name": "python3",
      "display_name": "Python 3"
    },
    "language_info": {
      "name": "python"
    }
  },
  "cells": [
    {
      "cell_type": "code",
      "source": [
        "# Definición de la clase Rectangulo\n",
        "\n",
        "class Rectangulo:\n",
        "    def __init__(self, longitud, ancho):\n",
        "        \"\"\"\n",
        "        Constructor de la clase Rectangulo.\n",
        "\n",
        "        Parámetros:\n",
        "        - longitud (float): Longitud del rectángulo.\n",
        "        - ancho (float): Ancho del rectángulo.\n",
        "        \"\"\"\n",
        "        self.longitud = longitud\n",
        "        self.ancho = ancho\n",
        "\n",
        "    @property\n",
        "    def area(self):\n",
        "        \"\"\"\n",
        "        Método que devuelve el área del rectángulo.\n",
        "        \"\"\"\n",
        "        return self.longitud * self.ancho\n",
        "\n",
        "    @property\n",
        "    def perimetro(self):\n",
        "        \"\"\"\n",
        "        Método que devuelve el perímetro del rectángulo.\n",
        "        \"\"\"\n",
        "        return 2 * (self.longitud + self.ancho)\n",
        "\n",
        "    def imprimir_informacion(self):\n",
        "        \"\"\"\n",
        "        Método que imprime la información del rectángulo.\n",
        "        \"\"\"\n",
        "        print(f\"Longitud: {self.longitud}, Ancho: {self.ancho}\")\n",
        "        print(f\"Área: {self.area}, Perímetro: {self.perimetro}\")\n"
      ],
      "metadata": {
        "id": "hdkSx9WlEeB7"
      },
      "execution_count": 5,
      "outputs": []
    },
    {
      "cell_type": "code",
      "execution_count": 4,
      "metadata": {
        "colab": {
          "base_uri": "https://localhost:8080/"
        },
        "id": "LkdEBDtrDkRj",
        "outputId": "8940e8b2-98b6-482c-8ddd-6b23d1c8603d"
      },
      "outputs": [
        {
          "output_type": "stream",
          "name": "stdout",
          "text": [
            "Longitud: 5.0, Ancho: 3.0\n",
            "Área: 15.0, Perímetro: 16.0\n"
          ]
        }
      ],
      "source": [
        "# Crear una instancia de la clase Rectangulo y mostrar su información\n",
        "\n",
        "# Crear una instancia de la clase Rectangulo\n",
        "rectangulo1 = Rectangulo(longitud=5.0, ancho=3.0)\n",
        "\n",
        "# Imprimir la información del rectángulo\n",
        "rectangulo1.imprimir_informacion()"
      ]
    },
    {
      "cell_type": "markdown",
      "source": [
        "En este ejemplo, la clase Rectangulo tiene un constructor que inicializa los atributos longitud y ancho. Hay dos métodos con el decorador @property llamados area y perimetro que calculan el área y el perímetro del rectángulo respectivamente. Además, hay un método imprimir_informacion que imprime la longitud, el ancho, el área y el perímetro del rectángulo.\n",
        "\n",
        "En la segunda celda, creamos una instancia de la clase Rectangulo llamada rectangulo1 y luego llamamos al método imprimir_informacion para mostrar la información del rectángulo.\n",
        "\n",
        "Puedes ejecutar estas celdas en tu Jupyter Notebook y observar la salida para entender cómo funciona esta clase. Experimenta modificando los valores de longitud y ancho para ver cómo afecta a la información del rectángulo.\n",
        "\n",
        "\n",
        "\n",
        "\n"
      ],
      "metadata": {
        "id": "TS8exlL5EnVt"
      }
    },
    {
      "cell_type": "code",
      "source": [],
      "metadata": {
        "id": "gLFDla6pELpD"
      },
      "execution_count": null,
      "outputs": []
    }
  ]
}