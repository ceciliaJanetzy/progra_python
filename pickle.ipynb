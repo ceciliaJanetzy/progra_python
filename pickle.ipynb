{
  "nbformat": 4,
  "nbformat_minor": 0,
  "metadata": {
    "colab": {
      "provenance": []
    },
    "kernelspec": {
      "name": "python3",
      "display_name": "Python 3"
    },
    "language_info": {
      "name": "python"
    }
  },
  "cells": [
    {
      "cell_type": "code",
      "execution_count": 3,
      "metadata": {
        "colab": {
          "base_uri": "https://localhost:8080/"
        },
        "id": "og0xipwGFIIf",
        "outputId": "2d8c34fa-faf0-4bbd-e3e3-7f69730a7a77"
      },
      "outputs": [
        {
          "output_type": "stream",
          "name": "stdout",
          "text": [
            "Objeto original: Persona(nombre=Juan, edad=30)\n",
            "Objeto recuperado: Persona(nombre=Juan, edad=30)\n"
          ]
        }
      ],
      "source": [
        "# Importar el mkódulo pickle\n",
        "import pickle\n",
        "\n",
        "# Definir una clase simple para serializar\n",
        "class Persona:\n",
        "    def __init__(self, nombre, edad):\n",
        "        self.nombre = nombre\n",
        "        self.edad = edad\n",
        "\n",
        "    def __str__(self):\n",
        "        return f\"Persona(nombre={self.nombre}, edad={self.edad})\"\n",
        "\n",
        "# Crear una instancia de la clase Persona\n",
        "persona_original = Persona(nombre=\"Juan\", edad=30)\n",
        "\n",
        "# Serializar la instancia y guardarla en un archivo binario\n",
        "archivo_pickle = \"persona.pkl\"\n",
        "\n",
        "with open(archivo_pickle, \"wb\") as archivo:\n",
        "    pickle.dump(persona_original, archivo)\n",
        "\n",
        "# Leer el archivo binario y deserializar la instancia\n",
        "with open(archivo_pickle, \"rb\") as archivo:\n",
        "    persona_recuperada = pickle.load(archivo)\n",
        "\n",
        "# Imprimir la información del objeto original y recuperado\n",
        "print(\"Objeto original:\", persona_original)\n",
        "print(\"Objeto recuperado:\", persona_recuperada)\n"
      ]
    },
    {
      "cell_type": "markdown",
      "source": [
        "En este ejemplo, hemos creado una clase Persona con un método __str__ para que sea más fácil visualizar la información al imprimir la instancia. Luego, creamos una instancia de esta clase llamada persona_original.\n",
        "\n",
        "Usamos pickle.dump para serializar la instancia y guardarla en un archivo binario llamado \"persona.pkl\" en la celda 4. Después, en la celda 5, leemos el archivo binario y utilizamos pickle.load para deserializar la instancia, recuperándola como persona_recuperada.\n",
        "\n",
        "Finalmente, en la celda 6, imprimimos la información del objeto original y del objeto recuperado. Ambos deberían ser iguales.\n",
        "\n",
        "Puedes ejecutar estas celdas en tu Jupyter Notebook y experimentar con diferentes objetos y clases para entender mejor cómo funciona la serialización y deserialización con el módulo pickle."
      ],
      "metadata": {
        "id": "eEPdE2KvFOHM"
      }
    }
  ]
}