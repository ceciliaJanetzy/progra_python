{
  "nbformat": 4,
  "nbformat_minor": 0,
  "metadata": {
    "colab": {
      "provenance": []
    },
    "kernelspec": {
      "name": "python3",
      "display_name": "Python 3"
    },
    "language_info": {
      "name": "python"
    }
  },
  "cells": [
    {
      "cell_type": "code",
      "execution_count": null,
      "metadata": {
        "id": "oUIvkcago2QD"
      },
      "outputs": [],
      "source": [
        "# Solución A\n",
        "import re\n",
        "isbn_re=r'^[0-9]{3}[-][0-9]{3}[-][0-9]{2}[-][0-9]{4}[-][0-9]{1}$'\n",
        "\n",
        "while True:\n",
        "    isbn=input('Dame el isbn: ')\n",
        "    if (isbn==''):\n",
        "        print('Error. No se puede omitir. Inténtalo de nuevo.')\n",
        "        continue\n",
        "    if not bool(re.match(isbn_re,isbn)):\n",
        "        print('Error. No tiene el formato correcto. Inténtalo de nuevo.')\n",
        "        continue\n",
        "    break\n"
      ]
    },
    {
      "cell_type": "code",
      "source": [
        "# Solución B\n",
        "import re\n",
        "isbn_re=r'^[0-9]{3}[-][0-9]{3}[-][0-9]{2}[-][0-9]{4}[-][0-9]{1}$'\n",
        "\n",
        "while True:\n",
        "    isbn=input('Dame el isbn: ')\n",
        "    if (isbn==''):\n",
        "        print('Error. No se puede omitir. Inténtalo de nuevo.')\n",
        "        continue\n",
        "    if re.match(isbn_re,isbn):\n",
        "        print('Está correcto')\n",
        "        break\n",
        "    else:\n",
        "        print('Error. No tiene el formato correcto. Inténtalo de nuevo.')\n",
        "        continue"
      ],
      "metadata": {
        "id": "ZfLwbXZqqH5B"
      },
      "execution_count": null,
      "outputs": []
    },
    {
      "cell_type": "code",
      "source": [
        "# Opción A\n",
        "def orden(n1=0,n2=100):\n",
        "    return (min(n1,n2),max(n1,n2))"
      ],
      "metadata": {
        "id": "zrbAnNX3qh4w"
      },
      "execution_count": null,
      "outputs": []
    },
    {
      "cell_type": "code",
      "source": [
        "# Opción B\n",
        "def orden(n1=0,n2=100):\n",
        "    menor=min(n1,n2)\n",
        "    mayor=max(n1,n2)\n",
        "    if menor<mayor:\n",
        "        return menor, mayor\n",
        "    else:\n",
        "        return mayor, menor\n"
      ],
      "metadata": {
        "id": "HkcgzPrOrGuz"
      },
      "execution_count": null,
      "outputs": []
    },
    {
      "cell_type": "code",
      "source": [
        "# Opción C\n",
        "def orden(n1=0,n2=100):\n",
        "    if n1<n2:\n",
        "        return n1, n2\n",
        "    else:\n",
        "        return n2, n1"
      ],
      "metadata": {
        "id": "RLR7CAgKrfoQ"
      },
      "execution_count": null,
      "outputs": []
    },
    {
      "cell_type": "code",
      "source": [
        "# Opción D\n",
        "def orden(n1=0,n2=100):\n",
        "    if n1<n2:\n",
        "        return n1, n2\n",
        "    else:\n",
        "        return n2, n1"
      ],
      "metadata": {
        "id": "wdy1WK7ZtvD7"
      },
      "execution_count": null,
      "outputs": []
    },
    {
      "cell_type": "code",
      "source": [
        "class partido():\n",
        "    local=0\n",
        "    visitante=0\n",
        "\n",
        "    def __init__(self,local,visitante):\n",
        "        self.local=local\n",
        "        self.visitante=visitante\n",
        "\n",
        "    @property\n",
        "    def resultado(self):\n",
        "        etiqueta=''\n",
        "        if self.local>self.visitante:\n",
        "            etiqueta='TRIUNFO LOCAL'\n",
        "        if self.visitante>self.local:\n",
        "            etiqueta='TRIUNFO VISITANTE'\n",
        "        if self.local==self.visitante:\n",
        "            etiqueta='EMPATE'\n",
        "        return etiqueta\n",
        "\n",
        "    def info(self):\n",
        "        print(f'({self.local} - {self.visitante}) {self.resultado}')"
      ],
      "metadata": {
        "id": "ZXVGe6d-r_B0"
      },
      "execution_count": null,
      "outputs": []
    }
  ]
}